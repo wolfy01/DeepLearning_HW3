{
 "cells": [
  {
   "cell_type": "code",
   "execution_count": 1,
   "id": "797d6d30-cb8c-4d85-aae4-4ff205e06008",
   "metadata": {
    "tags": []
   },
   "outputs": [
    {
     "name": "stderr",
     "output_type": "stream",
     "text": [
      "c:\\Users\\nihal\\OneDrive\\Desktop\\HW2-fenglu\\homework\\Lib\\site-packages\\tqdm\\auto.py:21: TqdmWarning: IProgress not found. Please update jupyter and ipywidgets. See https://ipywidgets.readthedocs.io/en/stable/user_install.html\n",
      "  from .autonotebook import tqdm as notebook_tqdm\n"
     ]
    }
   ],
   "source": [
    "# Cell 2: Required libraries\n",
    "import json\n",
    "import torch\n",
    "from transformers import BertTokenizerFast, BertForQuestionAnswering, get_linear_schedule_with_warmup\n",
    "from torch.optim import AdamW\n",
    "from torch.utils.data import Dataset, DataLoader\n",
    "from accelerate import Accelerator\n",
    "from fuzzywuzzy import fuzz, process\n",
    "from tqdm import tqdm\n",
    "from collections import Counter\n",
    "import re\n",
    "import string"
   ]
  },
  {
   "cell_type": "code",
   "execution_count": 2,
   "id": "07488f01-3ed5-4305-8fe4-7b1a2b2f2ce4",
   "metadata": {
    "tags": []
   },
   "outputs": [
    {
     "name": "stderr",
     "output_type": "stream",
     "text": [
      "Some weights of BertForQuestionAnswering were not initialized from the model checkpoint at bert-base-uncased and are newly initialized: ['qa_outputs.bias', 'qa_outputs.weight']\n",
      "You should probably TRAIN this model on a down-stream task to be able to use it for predictions and inference.\n"
     ]
    },
    {
     "name": "stdout",
     "output_type": "stream",
     "text": [
      "cuda\n"
     ]
    }
   ],
   "source": [
    "# Set up device and Accelerator\n",
    "device = torch.device(\"cuda\" if torch.cuda.is_available() else \"cpu\")\n",
    "accelerator = Accelerator()\n",
    "\n",
    "# Use bert-base-uncased fast tokenizer for the task\n",
    "tokenizer = BertTokenizerFast.from_pretrained(\"bert-base-uncased\")\n",
    "model = BertForQuestionAnswering.from_pretrained(\"bert-base-uncased\").to(device)\n",
    "print(device)"
   ]
  },
  {
   "cell_type": "code",
   "execution_count": 3,
   "id": "5ea8ec52-2a5d-448a-8a62-ae90ac013797",
   "metadata": {
    "tags": []
   },
   "outputs": [],
   "source": [
    "# Cell 4: Function to load SQuAD-style dataset\n",
    "def load_squad(path):\n",
    "    with open(path, 'r', encoding='utf-8') as f:\n",
    "        squad_dict = json.load(f)\n",
    "\n",
    "    contexts, questions, answers = [], [], []\n",
    "    for group in squad_dict['data']:\n",
    "        for passage in group['paragraphs']:\n",
    "            context = passage['context']\n",
    "            for qa in passage['qas']:\n",
    "                question = qa['question']\n",
    "                answer_key = 'plausible_answers' if 'plausible_answers' in qa else 'answers'\n",
    "                for answer in qa[answer_key]:\n",
    "                    contexts.append(context)\n",
    "                    questions.append(question)\n",
    "                    answers.append(answer)\n",
    "    return contexts, questions, answers\n",
    "\n"
   ]
  },
  {
   "cell_type": "code",
   "execution_count": 4,
   "id": "811096e3-29eb-4180-aeb2-007b5c0efad4",
   "metadata": {
    "tags": []
   },
   "outputs": [
    {
     "name": "stdout",
     "output_type": "stream",
     "text": [
      "✅ Datasets loaded successfully.\n"
     ]
    }
   ],
   "source": [
    "# Cell 5: Load datasets\n",
    "# -------------------------------------------------------------\n",
    "# Loads Spoken SQuAD-style JSON files for training and validation,\n",
    "# including noisy test sets (WER44, WER54).\n",
    "# -------------------------------------------------------------\n",
    "\n",
    "train_contexts, train_questions, train_answers = load_squad(\"spoken_train-v1.1.json\")\n",
    "val_contexts, val_questions, val_answers = load_squad(\"spoken_test-v1.1.json\")\n",
    "val_contexts_wer44, val_questions_wer44, val_answers_wer44 = load_squad(\"spoken_test-v1.1_WER44.json\")\n",
    "val_contexts_wer54, val_questions_wer54, val_answers_wer54 = load_squad(\"spoken_test-v1.1_WER54.json\")\n",
    "\n",
    "print(\"✅ Datasets loaded successfully.\")"
   ]
  },
  {
   "cell_type": "code",
   "execution_count": 5,
   "id": "5511c58a-0064-41d2-b320-bb7fedec9996",
   "metadata": {
    "tags": []
   },
   "outputs": [
    {
     "name": "stderr",
     "output_type": "stream",
     "text": [
      "WARNING:root:Applied processor reduces input query to empty string, all comparisons will have score 0. [Query: '.']\n",
      "WARNING:root:Applied processor reduces input query to empty string, all comparisons will have score 0. [Query: '.']\n",
      "WARNING:root:Applied processor reduces input query to empty string, all comparisons will have score 0. [Query: '.']\n",
      "WARNING:root:Applied processor reduces input query to empty string, all comparisons will have score 0. [Query: '.']\n",
      "WARNING:root:Applied processor reduces input query to empty string, all comparisons will have score 0. [Query: '.']\n",
      "WARNING:root:Applied processor reduces input query to empty string, all comparisons will have score 0. [Query: '.']\n"
     ]
    },
    {
     "name": "stdout",
     "output_type": "stream",
     "text": [
      "✅ Answer alignment complete for all datasets.\n"
     ]
    }
   ],
   "source": [
    "# Cell 6: Align answers with exact match and fuzzy fallback\n",
    "# -------------------------------------------------------------\n",
    "# Aligns each answer span within its context to ensure the\n",
    "# start and end indices match correctly, using fuzzy matching\n",
    "# for ASR-related mismatches.\n",
    "# -------------------------------------------------------------\n",
    "\n",
    "def align_answers(answers, contexts):\n",
    "    for answer, context in zip(answers, contexts):\n",
    "        if not answer[\"text\"].strip():\n",
    "            continue\n",
    "        start_idx = answer[\"answer_start\"]\n",
    "        end_idx = start_idx + len(answer[\"text\"])\n",
    "\n",
    "        if context[start_idx:end_idx] == answer[\"text\"]:\n",
    "            answer[\"answer_end\"] = end_idx\n",
    "        else:\n",
    "            possible_matches = [\n",
    "                context[max(0, start_idx - n):min(len(context), end_idx + n)]\n",
    "                for n in range(-4, 5)\n",
    "            ]\n",
    "            best_match, score = process.extractOne(\n",
    "                answer[\"text\"], possible_matches, scorer=fuzz.partial_ratio\n",
    "            )\n",
    "            if score > 40:\n",
    "                match_start_idx = context.find(best_match, max(0, start_idx - 4))\n",
    "                if match_start_idx != -1:\n",
    "                    answer[\"answer_start\"] = match_start_idx\n",
    "                    answer[\"answer_end\"] = match_start_idx + len(best_match)\n",
    "            else:\n",
    "                answer[\"answer_end\"] = start_idx + len(answer[\"text\"])  # Default\n",
    "\n",
    "# Apply alignment to all splits\n",
    "for ans_set, ctx_set in zip(\n",
    "    [train_answers, val_answers, val_answers_wer44, val_answers_wer54],\n",
    "    [train_contexts, val_contexts, val_contexts_wer44, val_contexts_wer54]\n",
    "):\n",
    "    align_answers(ans_set, ctx_set)\n",
    "\n",
    "print(\"✅ Answer alignment complete for all datasets.\")"
   ]
  },
  {
   "cell_type": "code",
   "execution_count": 6,
   "id": "1053a296-6d82-4b81-a081-dca409f1829e",
   "metadata": {
    "tags": []
   },
   "outputs": [
    {
     "name": "stdout",
     "output_type": "stream",
     "text": [
      "✅ Tokenization complete for all datasets.\n"
     ]
    }
   ],
   "source": [
    "# Cell 7: Tokenization with overlapping windows\n",
    "# -------------------------------------------------------------\n",
    "# Tokenizes question–context pairs using BERT tokenizer\n",
    "# with stride-based overlapping windows for long contexts.\n",
    "# -------------------------------------------------------------\n",
    "\n",
    "train_encodings = tokenizer(\n",
    "    train_contexts, train_questions,\n",
    "    truncation=True, padding=\"max_length\",\n",
    "    max_length=384, stride=128,\n",
    "    return_overflowing_tokens=True, return_offsets_mapping=True\n",
    ")\n",
    "val_encodings = tokenizer(\n",
    "    val_contexts, val_questions,\n",
    "    truncation=True, padding=\"max_length\",\n",
    "    max_length=384, stride=128,\n",
    "    return_overflowing_tokens=True, return_offsets_mapping=True\n",
    ")\n",
    "val_encodings_wer44 = tokenizer(\n",
    "    val_contexts_wer44, val_questions_wer44,\n",
    "    truncation=True, padding=\"max_length\",\n",
    "    max_length=384, stride=128,\n",
    "    return_overflowing_tokens=True, return_offsets_mapping=True\n",
    ")\n",
    "val_encodings_wer54 = tokenizer(\n",
    "    val_contexts_wer54, val_questions_wer54,\n",
    "    truncation=True, padding=\"max_length\",\n",
    "    max_length=384, stride=128,\n",
    "    return_overflowing_tokens=True, return_offsets_mapping=True\n",
    ")\n",
    "\n",
    "print(\"✅ Tokenization complete for all datasets.\")"
   ]
  },
  {
   "cell_type": "code",
   "execution_count": 7,
   "id": "a5283416-ff0a-44d0-9b84-c06e8d74ed3c",
   "metadata": {
    "tags": []
   },
   "outputs": [
    {
     "name": "stdout",
     "output_type": "stream",
     "text": [
      "✅ Token position mapping complete.\n"
     ]
    }
   ],
   "source": [
    "# Cell 8: Add token positions for start and end indices\n",
    "# -------------------------------------------------------------\n",
    "# Converts character-level answer positions into token-level\n",
    "# indices for model training.\n",
    "# -------------------------------------------------------------\n",
    "\n",
    "def add_token_positions(encodings, answers):\n",
    "    start_positions, end_positions = [], []\n",
    "    sample_mapping = encodings[\"overflow_to_sample_mapping\"]\n",
    "    offset_mapping = encodings[\"offset_mapping\"]\n",
    "\n",
    "    for i, offsets in enumerate(offset_mapping):\n",
    "        sample_idx = sample_mapping[i]\n",
    "        answer = answers[sample_idx]\n",
    "\n",
    "        if \"answer_start\" not in answer or \"answer_end\" not in answer:\n",
    "            start_positions.append(0)\n",
    "            end_positions.append(0)\n",
    "            continue\n",
    "\n",
    "        start_char = answer[\"answer_start\"]\n",
    "        end_char = answer[\"answer_end\"]\n",
    "        start, end = None, None\n",
    "\n",
    "        for j, (offset_start, offset_end) in enumerate(offsets):\n",
    "            if offset_start <= start_char < offset_end:\n",
    "                start = j\n",
    "            if offset_start < end_char <= offset_end:\n",
    "                end = j\n",
    "            if start is not None and end is not None:\n",
    "                break\n",
    "\n",
    "        if start is None:\n",
    "            start = tokenizer.model_max_length\n",
    "        if end is None:\n",
    "            end = tokenizer.model_max_length\n",
    "\n",
    "        start_positions.append(start)\n",
    "        end_positions.append(end)\n",
    "\n",
    "    encodings.update({\"start_positions\": start_positions, \"end_positions\": end_positions})\n",
    "\n",
    "# Apply to all encoding sets\n",
    "add_token_positions(train_encodings, train_answers)\n",
    "add_token_positions(val_encodings, val_answers)\n",
    "add_token_positions(val_encodings_wer44, val_answers_wer44)\n",
    "add_token_positions(val_encodings_wer54, val_answers_wer54)\n",
    "\n",
    "print(\"✅ Token position mapping complete.\")"
   ]
  },
  {
   "cell_type": "code",
   "execution_count": 8,
   "id": "77f41b19-57ec-4148-9d61-0512d9b752db",
   "metadata": {
    "tags": []
   },
   "outputs": [
    {
     "name": "stdout",
     "output_type": "stream",
     "text": [
      "✅ Dataset objects created successfully.\n"
     ]
    }
   ],
   "source": [
    "# Cell 9: Custom Dataset class\n",
    "# -------------------------------------------------------------\n",
    "# Wraps tokenized encodings for use in PyTorch DataLoader.\n",
    "# -------------------------------------------------------------\n",
    "\n",
    "class SquadDataset(Dataset):\n",
    "    def __init__(self, encodings):\n",
    "        self.encodings = encodings\n",
    "\n",
    "    def __getitem__(self, idx):\n",
    "        return {key: torch.tensor(val[idx] if val[idx] is not None else 0)\n",
    "                for key, val in self.encodings.items()}\n",
    "\n",
    "    def __len__(self):\n",
    "        return len(self.encodings[\"input_ids\"])\n",
    "\n",
    "# Initialize datasets\n",
    "train_dataset = SquadDataset(train_encodings)\n",
    "val_dataset = SquadDataset(val_encodings)\n",
    "val_dataset_wer44 = SquadDataset(val_encodings_wer44)\n",
    "val_dataset_wer54 = SquadDataset(val_encodings_wer54)\n",
    "\n",
    "print(\"✅ Dataset objects created successfully.\")"
   ]
  },
  {
   "cell_type": "code",
   "execution_count": 9,
   "id": "0c8de3b0-0fd9-4293-a2f5-fe4ee7b746fa",
   "metadata": {
    "tags": []
   },
   "outputs": [
    {
     "name": "stdout",
     "output_type": "stream",
     "text": [
      "✅ Training configuration ready.\n"
     ]
    }
   ],
   "source": [
    "# Cell 10: Model training setup\n",
    "# -------------------------------------------------------------\n",
    "# Defines optimizer, scheduler, and prepares dataloaders\n",
    "# using the Accelerator for efficient device placement.\n",
    "# -------------------------------------------------------------\n",
    "\n",
    "optimizer = AdamW(model.parameters(), lr=2e-5)\n",
    "train_loader = DataLoader(train_dataset, batch_size=8, shuffle=True)\n",
    "num_training_steps = len(train_loader) * 5\n",
    "\n",
    "scheduler = get_linear_schedule_with_warmup(\n",
    "    optimizer, num_warmup_steps=0, num_training_steps=num_training_steps\n",
    ")\n",
    "\n",
    "model, optimizer, train_loader, scheduler = accelerator.prepare(\n",
    "    model, optimizer, train_loader, scheduler\n",
    ")\n",
    "\n",
    "print(\"✅ Training configuration ready.\")"
   ]
  },
  {
   "cell_type": "code",
   "execution_count": 10,
   "id": "5ddabed3-b919-4eba-8a11-fd09a25d31ca",
   "metadata": {
    "tags": []
   },
   "outputs": [
    {
     "name": "stderr",
     "output_type": "stream",
     "text": [
      "🚀 Training Epoch 1/5: 100%|██████████| 4664/4664 [24:28<00:00,  3.18it/s]\n"
     ]
    },
    {
     "name": "stdout",
     "output_type": "stream",
     "text": [
      "📘 Epoch 1/5 completed | Average Loss: 0.6437\n"
     ]
    },
    {
     "name": "stderr",
     "output_type": "stream",
     "text": [
      "🚀 Training Epoch 2/5: 100%|██████████| 4664/4664 [24:40<00:00,  3.15it/s]\n"
     ]
    },
    {
     "name": "stdout",
     "output_type": "stream",
     "text": [
      "📘 Epoch 2/5 completed | Average Loss: 0.4028\n"
     ]
    },
    {
     "name": "stderr",
     "output_type": "stream",
     "text": [
      "🚀 Training Epoch 3/5: 100%|██████████| 4664/4664 [24:19<00:00,  3.20it/s]\n"
     ]
    },
    {
     "name": "stdout",
     "output_type": "stream",
     "text": [
      "📘 Epoch 3/5 completed | Average Loss: 0.3401\n"
     ]
    },
    {
     "name": "stderr",
     "output_type": "stream",
     "text": [
      "🚀 Training Epoch 4/5: 100%|██████████| 4664/4664 [24:16<00:00,  3.20it/s]\n"
     ]
    },
    {
     "name": "stdout",
     "output_type": "stream",
     "text": [
      "📘 Epoch 4/5 completed | Average Loss: 0.2977\n"
     ]
    },
    {
     "name": "stderr",
     "output_type": "stream",
     "text": [
      "🚀 Training Epoch 5/5: 100%|██████████| 4664/4664 [24:19<00:00,  3.19it/s]"
     ]
    },
    {
     "name": "stdout",
     "output_type": "stream",
     "text": [
      "📘 Epoch 5/5 completed | Average Loss: 0.2646\n"
     ]
    },
    {
     "name": "stderr",
     "output_type": "stream",
     "text": [
      "\n"
     ]
    }
   ],
   "source": [
    "# Cell 11: Training loop with gradient accumulation\n",
    "# -------------------------------------------------------------\n",
    "# Performs multi-epoch fine-tuning of BERT for QA with\n",
    "# gradient accumulation for memory efficiency.\n",
    "# -------------------------------------------------------------\n",
    "\n",
    "gradient_accumulation_steps = 4\n",
    "\n",
    "for epoch in range(5):\n",
    "    model.train()\n",
    "    epoch_loss = 0.0\n",
    "\n",
    "    for i, batch in enumerate(tqdm(train_loader, desc=f\"🚀 Training Epoch {epoch + 1}/5\")):\n",
    "        optimizer.zero_grad()\n",
    "        input_ids = batch[\"input_ids\"].to(device)\n",
    "        attention_mask = batch[\"attention_mask\"].to(device)\n",
    "        start_positions = batch[\"start_positions\"].to(device)\n",
    "        end_positions = batch[\"end_positions\"].to(device)\n",
    "\n",
    "        outputs = model(\n",
    "            input_ids,\n",
    "            attention_mask=attention_mask,\n",
    "            start_positions=start_positions,\n",
    "            end_positions=end_positions,\n",
    "        )\n",
    "\n",
    "        loss = outputs.loss / gradient_accumulation_steps\n",
    "        accelerator.backward(loss)\n",
    "        epoch_loss += loss.item()\n",
    "\n",
    "        if (i + 1) % gradient_accumulation_steps == 0:\n",
    "            optimizer.step()\n",
    "            scheduler.step()\n",
    "            optimizer.zero_grad()\n",
    "\n",
    "    print(f\"📘 Epoch {epoch + 1}/5 completed | Average Loss: {epoch_loss / len(train_loader):.4f}\")"
   ]
  },
  {
   "cell_type": "code",
   "execution_count": 11,
   "id": "48fc12c6-ec4a-4ce8-b188-b0a704f09afe",
   "metadata": {
    "tags": []
   },
   "outputs": [],
   "source": [
    "# Cell 12: Normalization and scoring functions\n",
    "# -------------------------------------------------------------\n",
    "# Defines helper functions for EM and F1 metric computation.\n",
    "# -------------------------------------------------------------\n",
    "\n",
    "def normalize_answer(s):\n",
    "    def remove_articles(text): return re.sub(r\"\\b(a|an|the)\\b\", \" \", text)\n",
    "    def white_space_fix(text): return \" \".join(text.split())\n",
    "    def remove_punc(text):\n",
    "        exclude = set(string.punctuation)\n",
    "        return \"\".join(ch for ch in text if ch not in exclude)\n",
    "    def lower(text): return text.lower()\n",
    "\n",
    "    return white_space_fix(remove_articles(remove_punc(lower(s))))\n",
    "\n",
    "\n",
    "def exact_match_score(prediction, ground_truth):\n",
    "    return normalize_answer(prediction) == normalize_answer(ground_truth)\n",
    "\n",
    "\n",
    "def f1_score(prediction, ground_truth):\n",
    "    prediction_tokens = normalize_answer(prediction).split()\n",
    "    ground_truth_tokens = normalize_answer(ground_truth).split()\n",
    "    common = Counter(prediction_tokens) & Counter(ground_truth_tokens)\n",
    "    num_same = sum(common.values())\n",
    "\n",
    "    if num_same == 0:\n",
    "        return 0.0\n",
    "    precision = num_same / len(prediction_tokens)\n",
    "    recall = num_same / len(ground_truth_tokens)\n",
    "    return 2 * precision * recall / (precision + recall)"
   ]
  },
  {
   "cell_type": "code",
   "execution_count": 12,
   "id": "7ba7ebfb-c1d9-4bd5-8215-40f0c9af482a",
   "metadata": {
    "tags": []
   },
   "outputs": [],
   "source": [
    "# Cell 13: Evaluation\n",
    "# -------------------------------------------------------------\n",
    "# Evaluates the fine-tuned model on a given dataset\n",
    "# using token-based decoding to compute EM and F1 scores.\n",
    "# -------------------------------------------------------------\n",
    "\n",
    "def evaluate(model, dataset):\n",
    "    model.eval()\n",
    "    answers, references = [], []\n",
    "    exact_match_total = f1_total = 0\n",
    "\n",
    "    data_loader = DataLoader(dataset, batch_size=8)\n",
    "    for batch in tqdm(data_loader, desc=\"Evaluating\"):\n",
    "        input_ids = batch[\"input_ids\"].to(device)\n",
    "        attention_mask = batch[\"attention_mask\"].to(device)\n",
    "\n",
    "        with torch.no_grad():\n",
    "            outputs = model(input_ids, attention_mask=attention_mask)\n",
    "            start_preds = torch.argmax(outputs.start_logits, dim=1)\n",
    "            end_preds = torch.argmax(outputs.end_logits, dim=1)\n",
    "\n",
    "            for i in range(len(start_preds)):\n",
    "                start_pred, end_pred = start_preds[i].item(), end_preds[i].item()\n",
    "                answer_tokens = tokenizer.convert_ids_to_tokens(input_ids[i][start_pred:end_pred + 1])\n",
    "                answer = tokenizer.convert_tokens_to_string(answer_tokens)\n",
    "\n",
    "                start_true, end_true = batch[\"start_positions\"][i].item(), batch[\"end_positions\"][i].item()\n",
    "                ref_tokens = tokenizer.convert_ids_to_tokens(input_ids[i][start_true:end_true + 1])\n",
    "                reference = tokenizer.convert_tokens_to_string(ref_tokens)\n",
    "\n",
    "                answers.append(answer)\n",
    "                references.append(reference)\n",
    "                exact_match_total += exact_match_score(answer, reference)\n",
    "                f1_total += f1_score(answer, reference)\n",
    "\n",
    "    exact_match = 100.0 * exact_match_total / len(answers)\n",
    "    f1 = 100.0 * f1_total / len(answers)\n",
    "    print(f\"📊 Evaluation → Exact Match: {exact_match:.2f}% | F1 Score: {f1:.2f}%\")"
   ]
  },
  {
   "cell_type": "code",
   "execution_count": 13,
   "id": "0584f407-51f4-4ea0-ac39-1e21d3e3dca9",
   "metadata": {
    "tags": []
   },
   "outputs": [
    {
     "name": "stdout",
     "output_type": "stream",
     "text": [
      "Evaluating on standard validation set:\n"
     ]
    },
    {
     "name": "stderr",
     "output_type": "stream",
     "text": [
      "Evaluating: 100%|██████████| 2010/2010 [03:33<00:00,  9.42it/s]\n"
     ]
    },
    {
     "name": "stdout",
     "output_type": "stream",
     "text": [
      "📊 Evaluation → Exact Match: 51.83% | F1 Score: 64.57%\n",
      "Evaluating on WER44 validation set:\n"
     ]
    },
    {
     "name": "stderr",
     "output_type": "stream",
     "text": [
      "Evaluating: 100%|██████████| 2263/2263 [04:19<00:00,  8.71it/s]\n"
     ]
    },
    {
     "name": "stdout",
     "output_type": "stream",
     "text": [
      "📊 Evaluation → Exact Match: 10.20% | F1 Score: 19.41%\n",
      "Evaluating on WER54 validation set:\n"
     ]
    },
    {
     "name": "stderr",
     "output_type": "stream",
     "text": [
      "Evaluating: 100%|██████████| 2264/2264 [04:19<00:00,  8.71it/s]"
     ]
    },
    {
     "name": "stdout",
     "output_type": "stream",
     "text": [
      "📊 Evaluation → Exact Match: 6.64% | F1 Score: 15.42%\n"
     ]
    },
    {
     "name": "stderr",
     "output_type": "stream",
     "text": [
      "\n"
     ]
    }
   ],
   "source": [
    "print(\"Evaluating on standard validation set:\")\n",
    "evaluate(model, val_dataset)\n",
    "print(\"Evaluating on WER44 validation set:\")\n",
    "evaluate(model, val_dataset_wer44)\n",
    "print(\"Evaluating on WER54 validation set:\")\n",
    "evaluate(model, val_dataset_wer54)\n"
   ]
  },
  {
   "cell_type": "code",
   "execution_count": 14,
   "id": "cc62faa2-6d72-4770-9d99-397abcae408c",
   "metadata": {
    "tags": []
   },
   "outputs": [],
   "source": [
    "# model.save_pretrained(\"model\")\n",
    "# tokenizer.save_pretrained(\"tokenizer\")"
   ]
  }
 ],
 "metadata": {
  "kernelspec": {
   "display_name": "homework",
   "language": "python",
   "name": "python3"
  },
  "language_info": {
   "codemirror_mode": {
    "name": "ipython",
    "version": 3
   },
   "file_extension": ".py",
   "mimetype": "text/x-python",
   "name": "python",
   "nbconvert_exporter": "python",
   "pygments_lexer": "ipython3",
   "version": "3.13.7"
  }
 },
 "nbformat": 4,
 "nbformat_minor": 5
}
